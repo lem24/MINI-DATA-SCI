{
 "cells": [
  {
   "cell_type": "markdown",
   "id": "27dcac88-bb7d-44b8-9a92-2b95224da2d1",
   "metadata": {},
   "source": [
    "<H1>Data Science Tools and Ecosystem<H1>"
   ]
  },
  {
   "cell_type": "markdown",
   "id": "28f11edf-c19a-4e22-8bac-eb50a29fa045",
   "metadata": {
    "tags": []
   },
   "source": [
    "In this notebook, Data Science Tools and Ecosystem are summarized."
   ]
  },
  {
   "cell_type": "markdown",
   "id": "d3fedcae-3b25-4a09-8f8d-a7ee442fc4a4",
   "metadata": {},
   "source": [
    "Some of the popular languages that Data Scientists use are:\n",
    "<ol>\n",
    "<li>Python\n",
    "<li>R \n",
    "<li>Java\n",
    "<ol>"
   ]
  },
  {
   "cell_type": "markdown",
   "id": "42b5f415-5d80-4be2-b0df-70d1e2df9170",
   "metadata": {},
   "source": [
    "Some of the commonly used libraries used by Data Scientists include:\n",
    "<ol> \n",
    "<li>Numpy\n",
    "<li>Matplotlib\n",
    "<li>Pandas\n",
    "<ol>"
   ]
  },
  {
   "cell_type": "markdown",
   "id": "6a71423c-a647-44c9-8d35-e49741458e9c",
   "metadata": {},
   "source": [
    "|Data Science Tools|\n",
    "|------------------|\n",
    "|  Apache Hadoop   |\n",
    "|  Tanserflow      |\n",
    "|  SAS             |"
   ]
  },
  {
   "cell_type": "markdown",
   "id": "5d61ed07-2bb3-4ae3-8744-f9de29955e93",
   "metadata": {},
   "source": [
    "<H3>Below are a few examples of evaluating arithmetic expressions in Python<H3>"
   ]
  },
  {
   "cell_type": "code",
   "execution_count": 4,
   "id": "41ac6134-31cb-42a9-9ecf-ae565ca0e46a",
   "metadata": {
    "tags": []
   },
   "outputs": [
    {
     "data": {
      "text/plain": [
       "17"
      ]
     },
     "execution_count": 4,
     "metadata": {},
     "output_type": "execute_result"
    }
   ],
   "source": [
    "(3*4)+5 # This a simple arithmetic expression to mutiply then add integers"
   ]
  },
  {
   "cell_type": "code",
   "execution_count": 5,
   "id": "3a4f4ce4-5410-4cc3-a976-77357fe1a655",
   "metadata": {
    "tags": []
   },
   "outputs": [
    {
     "data": {
      "text/plain": [
       "3.3333333333333335"
      ]
     },
     "execution_count": 5,
     "metadata": {},
     "output_type": "execute_result"
    }
   ],
   "source": [
    "200/60 #  This will convert 200 minutes to hours by diving by 60"
   ]
  },
  {
   "cell_type": "markdown",
   "id": "18242026-6d06-489c-9f1d-9cc29e56bdae",
   "metadata": {},
   "source": [
    "<b>Objactives:</b>\n",
    "<ol>\n",
    "    <li>List popular languages for Data Science\n",
    "    <li>List popular languages for Data Science\n",
    "<ol>\n",
    "<ul>\n",
    "    <li>List popular languages for Data Science\n",
    "    <li>List popular languages for Data Science\n",
    "    <li>List popular languages for Data Science\n",
    "<ul>"
   ]
  },
  {
   "cell_type": "markdown",
   "id": "27067baf-ae9a-406f-9dc7-ea33c87c4f29",
   "metadata": {
    "tags": []
   },
   "source": [
    "<H2>Author:<H2>\n",
    "<p>ABDULALIM<p>"
   ]
  },
  {
   "cell_type": "code",
   "execution_count": null,
   "id": "8654c8a8-e684-4384-974f-f39f1883c4a3",
   "metadata": {},
   "outputs": [],
   "source": []
  }
 ],
 "metadata": {
  "kernelspec": {
   "display_name": "Python",
   "language": "python",
   "name": "conda-env-python-py"
  },
  "language_info": {
   "codemirror_mode": {
    "name": "ipython",
    "version": 3
   },
   "file_extension": ".py",
   "mimetype": "text/x-python",
   "name": "python",
   "nbconvert_exporter": "python",
   "pygments_lexer": "ipython3",
   "version": "3.7.12"
  }
 },
 "nbformat": 4,
 "nbformat_minor": 5
}
